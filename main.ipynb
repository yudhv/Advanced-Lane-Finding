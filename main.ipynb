{
 "cells": [
  {
   "cell_type": "code",
   "execution_count": 1,
   "metadata": {
    "collapsed": false
   },
   "outputs": [],
   "source": [
    "import numpy as np\n",
    "import cv2\n",
    "import glob\n",
    "import matplotlib.pyplot as plt\n",
    "import matplotlib.image as mpimg\n",
    "import math\n",
    "from moviepy.editor import VideoFileClip\n",
    "global attempted\n",
    "global left_line,right_line,prev_pts\n",
    "%matplotlib inline"
   ]
  },
  {
   "cell_type": "code",
   "execution_count": 32,
   "metadata": {
    "collapsed": false
   },
   "outputs": [],
   "source": [
    "# Define a class to receive the characteristics of each line detection\n",
    "class Line():\n",
    "    def __init__(self):\n",
    "        # No. of values\n",
    "        self.nvalues = 3\n",
    "        # Current iteration\n",
    "        self.current = 0 \n",
    "        # Array of last self.nvalues worth of polynomial coefficients\n",
    "        self.last_fit = np.empty((self.nvalues,3,))\n",
    "        #polynomial coefficients averaged over the last n iterations\n",
    "        self.best_fit = None  \n",
    "        #polynomial coefficients for the most recent fit\n",
    "        self.current_fit = [np.array([False])]  \n",
    "        #radius of curvature of the line in some units\n",
    "        self.radius_of_curvature = None \n",
    "        #distance in meters of vehicle center from the line\n",
    "        self.line_base_pos = None \n",
    "        \n",
    "        \n",
    "global left_line,right_line,prev_pts\n",
    "left_line = Line()\n",
    "right_line = Line()\n",
    "prev_pts = np.int32([[ 155  ,648],[ 549 , 450],[1216,  648],[ 769,  450]])"
   ]
  },
  {
   "cell_type": "code",
   "execution_count": 3,
   "metadata": {
    "collapsed": false
   },
   "outputs": [],
   "source": [
    "images = glob.glob(\"camera_cal/calibration*.jpg\")\n",
    "objpoints = []\n",
    "imgpoints = []\n",
    "\n",
    "objp = np.zeros((9*6,3),np.float32)\n",
    "objp[:,:2] = np.mgrid[0:9,0:6].T.reshape(-1,2)\n",
    "\n",
    "for imgname in images:\n",
    "    img = mpimg.imread(imgname)\n",
    "    gray = cv2.cvtColor(img,cv2.COLOR_RGB2GRAY)\n",
    "#     plt.imshow(gray,cmap='gray')\n",
    "\n",
    "    ret, corners = cv2.findChessboardCorners(gray,(9,6),None)\n",
    "    if ret==True:\n",
    "        objpoints.append(objp)\n",
    "        imgpoints.append(corners)\n",
    "ret, mtx, dist, rvecs, tvecs = cv2.calibrateCamera(objpoints, imgpoints, gray.shape[::-1], None, None)\n"
   ]
  },
  {
   "cell_type": "code",
   "execution_count": 4,
   "metadata": {
    "collapsed": false
   },
   "outputs": [],
   "source": [
    "def color_n_gradient(img, s_thresh=(170, 255), sx_thresh=(20, 100)):\n",
    "    image = cv2.undistort(img,mtx, dist, None, mtx)\n",
    "    hls = cv2.cvtColor(image, cv2.COLOR_RGB2HLS)\n",
    "    s_channel = hls[:,:,2]\n",
    "    l_channel = hls[:,:,1]\n",
    "    h_channel = hls[:,:,0]\n",
    "\n",
    "    # Grayscale image\n",
    "    # NOTE: we already saw that standard grayscaling lost color information for the lane lines\n",
    "    # Explore gradients in other colors spaces / color channels to see what might work better\n",
    "    gray = cv2.cvtColor(image, cv2.COLOR_RGB2GRAY)\n",
    "\n",
    "    # Sobel x\n",
    "    sobelx = cv2.Sobel(gray, cv2.CV_64F, 1, 0) # Take the derivative in x\n",
    "    abs_sobelx = np.absolute(sobelx) # Absolute x derivative to accentuate lines away from horizontal\n",
    "    scaled_sobel = np.uint8(255*abs_sobelx/np.max(abs_sobelx))\n",
    "\n",
    "    # Threshold x gradient\n",
    "    thresh_min = sx_thresh[0]\n",
    "    thresh_max = sx_thresh[1]\n",
    "    sxbinary = np.zeros_like(scaled_sobel)\n",
    "    sxbinary[(scaled_sobel >= thresh_min) & (scaled_sobel <= thresh_max)] = 1\n",
    "\n",
    "    # Threshold color channel\n",
    "    s_thresh_min = s_thresh[0]\n",
    "    s_thresh_max = s_thresh[1]\n",
    "    s_binary = np.zeros_like(s_channel)\n",
    "    s_binary[(s_channel >= s_thresh_min) & (s_channel <= s_thresh_max)] = 1\n",
    "\n",
    "    # Stack each channel to view their individual contributions in green and blue respectively\n",
    "    # This returns a stack of the two binary images, whose components you can see as different colors\n",
    "    color_binary = np.dstack(( np.zeros_like(s_binary), sxbinary, s_binary))\n",
    "    \n",
    "    # Combine the two binary thresholds\n",
    "    combined_binary = np.zeros_like(sxbinary)\n",
    "    combined_binary[(s_binary == 1) | (sxbinary == 1)] = 1\n",
    "    \n",
    "    return combined_binary"
   ]
  },
  {
   "cell_type": "code",
   "execution_count": 5,
   "metadata": {
    "collapsed": false
   },
   "outputs": [],
   "source": [
    "def process_image(img):\n",
    "    global prev_pts\n",
    "    image = np.copy(img)\n",
    "    imshape = image.shape\n",
    "    offset = int(imshape[0]*0.1)\n",
    "    hsv_bit = color_n_gradient(image)\n",
    "    \n",
    "    edge = np.zeros_like(hsv_bit)\n",
    "    mask_bit_value = 255\n",
    "    mask = np.array([[(0,imshape[0]),(imshape[1]*0.53, imshape[0]/1.8), \n",
    "                      (imshape[1]*0.47, imshape[0]/1.8), (imshape[1],imshape[0])]], dtype=np.int32)\n",
    "    cv2.fillPoly(edge,mask,mask_bit_value)\n",
    "    \n",
    "    hsv_bit = cv2.bitwise_and(hsv_bit,edge)\n",
    "#     plt.imshow(hsv_bit,cmap=\"gray\")\n",
    "    \n",
    "    row = 2\n",
    "    theta = np.pi/90\n",
    "    threshold = 55\n",
    "    min_line_len = 40\n",
    "    max_line_gap = 15\n",
    "\n",
    "    lines = cv2.HoughLinesP(hsv_bit,row,theta,threshold,min_line_len,max_line_gap)\n",
    "#     print(lines.shape)\n",
    "    if(lines==None):\n",
    "        return\n",
    "\n",
    "    xa = []\n",
    "    xb = []\n",
    "    xc = []\n",
    "    xd = []\n",
    "    ya = int(image.shape[0])\n",
    "    yb = int(image.shape[0]/1.6)\n",
    "\n",
    "    for line in lines:\n",
    "        for x1,y1,x2,y2 in line:\n",
    "#             cv2.line(image,(x1,y1),(x2,y2),(255,0,0),2)\n",
    "            m = (y2-y1)/(x2-x1)\n",
    "            c = y2-(m*x2)\n",
    "            if(-0.9<m<-0.5):\n",
    "                xa.append(int((ya-c)/m))\n",
    "                xb.append(int((yb-c)/m))\n",
    "\n",
    "            elif(0.9>m>0.55):\n",
    "                xc.append(int((ya-c)/m))\n",
    "                xd.append(int((yb-c)/m))\n",
    "    try:\n",
    "        x1 = int(np.mean(xa))\n",
    "    except:\n",
    "        x1 = prev_pts[0,0]+offset\n",
    "    try:\n",
    "        x2 = int(np.mean(xb))\n",
    "    except:\n",
    "        x2 = prev_pts[1,0]+offset\n",
    "    try:\n",
    "        x3 = int(np.mean(xc))\n",
    "    except:\n",
    "        x3 = prev_pts[2,0]-offset\n",
    "    try:\n",
    "        x4 = int(np.mean(xd))\n",
    "    except:\n",
    "        x4 = prev_pts[3,0]-offset\n",
    "    cv2.line(image,(x1,ya),(x2,yb),(0,255,0),8)\n",
    "    cv2.line(image,(x3,ya),(x4,yb),(0,255,0),8)\n",
    "    font = cv2.FONT_HERSHEY_SIMPLEX\n",
    "    cv2.putText(image,'Left Slope = '+str((yb-ya)/(x2-x1)),(100,50), font, 1,(255,255,255),2,cv2.LINE_AA)\n",
    "    cv2.putText(image,'Right Curvature = '+str((yb-ya)/(x4-x3)),(100,80), font, 1,(255,255,255),2,cv2.LINE_AA)\n",
    "    \n",
    "    ya = int(image.shape[0]*0.9)\n",
    "    prev_pts = np.int32([[x1-offset,ya],[x2-offset,yb],[x3+offset,ya],[x4+offset,yb]])\n",
    "    return prev_pts\n",
    "#     return image"
   ]
  },
  {
   "cell_type": "code",
   "execution_count": 6,
   "metadata": {
    "collapsed": true
   },
   "outputs": [],
   "source": [
    "def get_warped(cng, src):\n",
    "    dst = np.float32([[-200,0],[1430,0],[0,720],[1280,720]])\n",
    "    idx=[1,3,0,2]\n",
    "    \n",
    "    M = cv2.getPerspectiveTransform(np.float32(src[idx]),dst)\n",
    "    Minv = cv2.getPerspectiveTransform(dst, np.float32(src[idx]))\n",
    "\n",
    "    binary_warped = cv2.warpPerspective(cng,M,(1280,720),flags=cv2.INTER_LINEAR)\n",
    "    \n",
    "    return binary_warped,Minv"
   ]
  },
  {
   "cell_type": "code",
   "execution_count": 100,
   "metadata": {
    "collapsed": false
   },
   "outputs": [],
   "source": [
    "def line_detect(binary_warped):\n",
    "    # Assuming you have created a warped binary image called \"binary_warped\"\n",
    "    # Take a histogram of the bottom half of the image\n",
    "    histogram = np.sum(binary_warped[binary_warped.shape[0]/2:,:], axis=0)\n",
    "    # Create an output image to draw on and  visualize the result\n",
    "    out_img = np.dstack((binary_warped, binary_warped, binary_warped))*255\n",
    "    # Find the peak of the left and right halves of the histogram\n",
    "    # These will be the starting point for the left and right lines\n",
    "    midpoint = np.int(histogram.shape[0]/2)\n",
    "    leftx_base = np.argmax(histogram[:midpoint])\n",
    "    rightx_base = np.argmax(histogram[midpoint:]) + midpoint\n",
    "\n",
    "    # Choose the number of sliding windows\n",
    "    nwindows = 9\n",
    "    # Set height of windows\n",
    "    window_height = np.int(binary_warped.shape[0]/nwindows)\n",
    "    # Identify the x and y positions of all nonzero pixels in the image\n",
    "    nonzero = binary_warped.nonzero()\n",
    "    nonzeroy = np.array(nonzero[0])\n",
    "    nonzerox = np.array(nonzero[1])\n",
    "    # Current positions to be updated for each window\n",
    "    leftx_current = leftx_base\n",
    "    rightx_current = rightx_base\n",
    "    # Set the width of the windows +/- margin\n",
    "    margin = 100\n",
    "    # Set minimum number of pixels found to recenter window\n",
    "    minpix = 50\n",
    "    # Create empty lists to receive left and right lane pixel indices\n",
    "    left_lane_inds = []\n",
    "    right_lane_inds = []\n",
    "\n",
    "    # Step through the windows one by one\n",
    "    for window in range(nwindows):\n",
    "        # Identify window boundaries in x and y (and right and left)\n",
    "        win_y_low = binary_warped.shape[0] - (window+1)*window_height\n",
    "        win_y_high = binary_warped.shape[0] - window*window_height\n",
    "        win_xleft_low = leftx_current - margin\n",
    "        win_xleft_high = leftx_current + margin\n",
    "        win_xright_low = rightx_current - margin\n",
    "        win_xright_high = rightx_current + margin\n",
    "        # Draw the windows on the visualization image\n",
    "        cv2.rectangle(out_img,(win_xleft_low,win_y_low),(win_xleft_high,win_y_high),(0,255,0), 2) \n",
    "        cv2.rectangle(out_img,(win_xright_low,win_y_low),(win_xright_high,win_y_high),(0,255,0), 2) \n",
    "        # Identify the nonzero pixels in x and y within the window\n",
    "        good_left_inds = ((nonzeroy >= win_y_low) & (nonzeroy < win_y_high) & \n",
    "                          (nonzerox >= win_xleft_low) & (nonzerox < win_xleft_high)).nonzero()[0]\n",
    "        good_right_inds = ((nonzeroy >= win_y_low) & (nonzeroy < win_y_high) & \n",
    "                           (nonzerox >= win_xright_low) & (nonzerox < win_xright_high)).nonzero()[0]\n",
    "        # Append these indices to the lists\n",
    "        left_lane_inds.append(good_left_inds)\n",
    "        right_lane_inds.append(good_right_inds)\n",
    "        # If you found > minpix pixels, recenter next window on their mean position\n",
    "        if len(good_left_inds) > minpix:\n",
    "            leftx_current = np.int(np.mean(nonzerox[good_left_inds]))\n",
    "        if len(good_right_inds) > minpix:        \n",
    "            rightx_current = np.int(np.mean(nonzerox[good_right_inds]))\n",
    "\n",
    "    # Concatenate the arrays of indices\n",
    "    left_lane_inds = np.concatenate(left_lane_inds)\n",
    "    right_lane_inds = np.concatenate(right_lane_inds)\n",
    "\n",
    "    # Extract left and right line pixel positions\n",
    "    leftx = nonzerox[left_lane_inds]\n",
    "    lefty = nonzeroy[left_lane_inds] \n",
    "    rightx = nonzerox[right_lane_inds]\n",
    "    righty = nonzeroy[right_lane_inds] \n",
    "#     print(leftx.shape)\n",
    "    # Fit a second order polynomial to each\n",
    "    left_fit = np.polyfit(lefty, leftx, 2)\n",
    "    right_fit = np.polyfit(righty, rightx, 2)\n",
    "#     print(left_fit.shape)\n",
    "    return left_fit,right_fit\n",
    "#     return show_finished(left_fit,right_fit,binary_warped,Minv)"
   ]
  },
  {
   "cell_type": "code",
   "execution_count": 8,
   "metadata": {
    "collapsed": true
   },
   "outputs": [],
   "source": [
    "def line_detect_after(binary_warped,left_fit,right_fit):\n",
    "    global lf,rf\n",
    "    # Assume you now have a new warped binary image \n",
    "    # from the next frame of video (also called \"binary_warped\")\n",
    "    # It's now much easier to find line pixels!\n",
    "    nonzero = binary_warped.nonzero()\n",
    "    nonzeroy = np.array(nonzero[0])\n",
    "    nonzerox = np.array(nonzero[1])\n",
    "    margin = 100\n",
    "    left_lane_inds = ((nonzerox > (left_fit[0]*(nonzeroy**2) + left_fit[1]*nonzeroy + left_fit[2] - margin)) & (nonzerox < (left_fit[0]*(nonzeroy**2) + left_fit[1]*nonzeroy + left_fit[2] + margin))) \n",
    "    right_lane_inds = ((nonzerox > (right_fit[0]*(nonzeroy**2) + right_fit[1]*nonzeroy + right_fit[2] - margin)) & (nonzerox < (right_fit[0]*(nonzeroy**2) + right_fit[1]*nonzeroy + right_fit[2] + margin)))  \n",
    "\n",
    "    # Again, extract left and right line pixel positions\n",
    "    leftx = nonzerox[left_lane_inds]\n",
    "    lefty = nonzeroy[left_lane_inds] \n",
    "    rightx = nonzerox[right_lane_inds]\n",
    "    righty = nonzeroy[right_lane_inds]\n",
    "    # Fit a second order polynomial to each\n",
    "    left_fit = np.polyfit(lefty, leftx, 2)\n",
    "    right_fit = np.polyfit(righty, rightx, 2)\n",
    "    # Generate x and y values for plotting\n",
    "    ploty = np.linspace(0, binary_warped.shape[0]-1, binary_warped.shape[0] )\n",
    "    left_fitx = left_fit[0]*ploty**2 + left_fit[1]*ploty + left_fit[2]\n",
    "    right_fitx = right_fit[0]*ploty**2 + right_fit[1]*ploty + right_fit[2]\n",
    "    lold,rold = cal_curve_real(left_fit,right_fit,binary_warped)\n",
    "    lnew,rnew = cal_curve_real(left_fit,right_fit,binary_warped)\n",
    "    if(abs(lnew-lold)>500 or abs(rnew-rold)>500):\n",
    "        left_fit = lf\n",
    "        right_fit = rf\n",
    "    return left_fit,right_fit"
   ]
  },
  {
   "cell_type": "code",
   "execution_count": 15,
   "metadata": {
    "collapsed": false
   },
   "outputs": [],
   "source": [
    "def cal_curve_real(left_fit,right_fit,binary_warped):\n",
    "    # Define conversions in x and y from pixels space to meters\n",
    "    ploty = np.linspace(0, binary_warped.shape[0]-1, binary_warped.shape[0] )\n",
    "    y_eval = np.max(ploty)\n",
    "    ym_per_pix = 30/720 # meters per pixel in y dimension\n",
    "    xm_per_pix = 3.7/700 # meters per pixel in x dimension\n",
    "\n",
    "    leftx = left_fit[0]*ploty**2 + left_fit[1]*ploty + left_fit[2]\n",
    "    rightx = right_fit[0]*ploty**2 + right_fit[1]*ploty + right_fit[2]\n",
    "\n",
    "    # Fit new polynomials to x,y in world space\n",
    "    left_fit_cr = np.polyfit(ploty*ym_per_pix, leftx*xm_per_pix, 2)\n",
    "    right_fit_cr = np.polyfit(ploty*ym_per_pix, rightx*xm_per_pix, 2)\n",
    "    # Calculate the new radii of curvature\n",
    "    left_curverad = ((1 + (2*left_fit_cr[0]*y_eval*ym_per_pix + left_fit_cr[1])**2)**1.5) / np.absolute(2*left_fit_cr[0])\n",
    "    right_curverad = ((1 + (2*right_fit_cr[0]*y_eval*ym_per_pix + right_fit_cr[1])**2)**1.5) / np.absolute(2*right_fit_cr[0])\n",
    "    # Now our radius of curvature is in meters\n",
    "    return(left_curverad,right_curverad)\n",
    "    # Example values: 632.1 m    626.2 m"
   ]
  },
  {
   "cell_type": "code",
   "execution_count": 25,
   "metadata": {
    "collapsed": true
   },
   "outputs": [],
   "source": [
    "def cal_center_distance(left_fit,right_fit):\n",
    "    l_base = left_fit[0]*720**2 + left_fit[1]*720 + left_fit[2]\n",
    "    r_base = right_fit[0]*720**2 + right_fit[1]*720 + right_fit[2]\n",
    "    \n",
    "    x_center = (l_base + r_base)/2\n",
    "    img_center = 1280/2 \n",
    "    diff = x_center - img_center\n",
    "    xm_per_pix = 3.7/700\n",
    "    if(diff<0):\n",
    "        state = 'right'\n",
    "    elif(diff>0):\n",
    "        state = 'left'\n",
    "    elif(diff == 0):\n",
    "        state = 'center'\n",
    "    return str(diff*xm_per_pix)+' to the ' + state"
   ]
  },
  {
   "cell_type": "code",
   "execution_count": 9,
   "metadata": {
    "collapsed": true
   },
   "outputs": [],
   "source": [
    "def sanity_check(left_fit,right_fit,binary_warped):\n",
    "    l,r = cal_curve_real(left_fit,right_fit,binary_warped)\n",
    "    if((l/r>3.0 or r/l>3.0) and l<=10000 and r<=10000):\n",
    "        print(\"Failed because L_curvature = {} and R_curvature = {}\".format(l,r))\n",
    "        return False\n",
    "    \n",
    "    elif(400>abs(left_fit[2]-right_fit[2]) or abs(left_fit[2]-right_fit[2])>1000):\n",
    "        print(\"Failed because lane distance = {}\".format(abs(left_fit[2]-right_fit[2])))\n",
    "        return False    \n",
    "\n",
    "    return True"
   ]
  },
  {
   "cell_type": "code",
   "execution_count": 10,
   "metadata": {
    "collapsed": false
   },
   "outputs": [],
   "source": [
    "def update_line(lf,rf,binary_warped):\n",
    "    global attempted\n",
    "    global left_line,right_line\n",
    "    n = left_line.nvalues\n",
    "    if(left_line.current == n-1):\n",
    "        cur = -1\n",
    "    else:\n",
    "        cur = left_line.current\n",
    "        \n",
    "    \n",
    "    left_line.last_fit[cur+1] = lf\n",
    "    right_line.last_fit[cur+1] = rf\n",
    "    \n",
    "    if(left_line.best_fit == None):\n",
    "        left_line.best_fit = lf\n",
    "        right_line.best_fit = rf\n",
    "        for x in range(0,n):\n",
    "            left_line.last_fit[x] = lf\n",
    "            right_line.last_fit[x] = rf\n",
    "        \n",
    "    else:\n",
    "        \n",
    "        left_line.best_fit = np.mean(left_line.last_fit,axis=0)\n",
    "        right_line.best_fit = np.mean(right_line.last_fit,axis=0)\n",
    "\n",
    "    left_line.radius_of_curvature, right_line.radius_of_curvature = cal_curve_real(left_line.last_fit[cur+1], \n",
    "                                                                                   right_line.last_fit[cur+1], binary_warped)"
   ]
  },
  {
   "cell_type": "code",
   "execution_count": 11,
   "metadata": {
    "collapsed": false
   },
   "outputs": [],
   "source": [
    "def show_finished(img,left_fit,right_fit,binary_warped,Minv):\n",
    "    # image = cv2.imread()\n",
    "    # Create an image to draw the lines on\n",
    "    ext = 1.2\n",
    "    ploty = np.linspace(0, binary_warped.shape[0]*ext-1, binary_warped.shape[0]*ext )\n",
    "#     print(left_fit)\n",
    "#     print(ploty)\n",
    "    left_fitx = left_fit[0]*ploty**2 + left_fit[1]*ploty + left_fit[2]\n",
    "    right_fitx = right_fit[0]*ploty**2 + right_fit[1]*ploty + right_fit[2]\n",
    "#     print(left_fit[0]*ploty**2)\n",
    "    warp_zero = np.zeros_like(binary_warped).astype(np.uint8)\n",
    "    warp_zero = np.zeros_like(np.empty((binary_warped.shape[0]*ext,binary_warped.shape[1]*ext))).astype(np.uint8)\n",
    "    color_warp = np.dstack((warp_zero, warp_zero, warp_zero))\n",
    "    # Recast the x and y points into usable format for cv2.fillPoly()\n",
    "    pts_left = np.array([np.transpose(np.vstack([left_fitx, ploty]))])\n",
    "    pts_right = np.array([np.flipud(np.transpose(np.vstack([right_fitx, ploty])))])\n",
    "    pts = np.hstack((pts_left, pts_right))\n",
    "    # Draw the lane onto the warped blank image\n",
    "    cv2.fillPoly(color_warp, np.int_([pts]), (0,255, 0))\n",
    "\n",
    "    # Warp the blank back to original image space using inverse perspective matrix (Minv)\n",
    "    newwarp = cv2.warpPerspective(color_warp, Minv, (img.shape[1], img.shape[0])) \n",
    "    # Combine the result with the original image\n",
    "    result = cv2.addWeighted(img, 1, newwarp, 0.3, 0)\n",
    "    return result\n",
    "#     plt.imshow(result)"
   ]
  },
  {
   "cell_type": "code",
   "execution_count": 21,
   "metadata": {
    "collapsed": false
   },
   "outputs": [],
   "source": [
    "def pipeline(im):\n",
    "    global attempted\n",
    "    global left_line\n",
    "    global right_line\n",
    "    cur = left_line.current\n",
    "#     img = mpimg.imread(\"test_images/test6.jpg\")\n",
    "    cng = color_n_gradient(im)\n",
    "    src = process_image(im)\n",
    "#     return src\n",
    "    \n",
    "    binary_warped,Minv = get_warped(cng,src)\n",
    "    if(attempted == False):\n",
    "        lf,rf = line_detect(binary_warped)\n",
    "        attempted = True\n",
    "    else:\n",
    "        lf,rf = line_detect_after(binary_warped,left_line.last_fit[cur],right_line.last_fit[cur])\n",
    "    \n",
    "    if(sanity_check(lf,rf,binary_warped) == True):\n",
    "        update_line(lf,rf,binary_warped)\n",
    "    else:\n",
    "        attempted = False\n",
    "    \n",
    "    final = show_finished(im, left_line.best_fit, right_line.best_fit, binary_warped, Minv)\n",
    "    \n",
    "    font = cv2.FONT_HERSHEY_SIMPLEX\n",
    "    cv2.putText(final,'Left Curvature = '+str(left_line.radius_of_curvature),(100,50), font, 1,(255,255,255),2,cv2.LINE_AA)\n",
    "    cv2.putText(final,'Right Curvature = '+str(right_line.radius_of_curvature),(100,80), font, 1,(255,255,255),2,cv2.LINE_AA)\n",
    "    cv2.putText(final,'Vehicle is {}'.format(cal_center_distance(left_line.last_fit[cur],right_line.last_fit[cur])),(100,110), font, 1,(255,255,255),2,cv2.LINE_AA)\n",
    "    if(attempted == False):\n",
    "        cv2.putText(final,'RESET',(900,50), cv2.FONT_HERSHEY_SIMPLEX, 2,(255,0,0),3,cv2.LINE_AA)\n",
    "\n",
    "    if(left_line.current == left_line.nvalues-1):\n",
    "        left_line.current = 0\n",
    "        right_line.current = 0\n",
    "    else:\n",
    "        left_line.current += 1\n",
    "        right_line.current += 1\n",
    "                                                                   \n",
    "    return final"
   ]
  },
  {
   "cell_type": "code",
   "execution_count": 33,
   "metadata": {
    "collapsed": false,
    "scrolled": true
   },
   "outputs": [
    {
     "name": "stdout",
     "output_type": "stream",
     "text": [
      "[MoviePy] >>>> Building video output_crop.mp4\n",
      "[MoviePy] Writing video output_crop.mp4\n"
     ]
    },
    {
     "name": "stderr",
     "output_type": "stream",
     "text": [
      " 24%|██▍       | 307/1261 [01:11<04:15,  3.74it/s]"
     ]
    },
    {
     "name": "stdout",
     "output_type": "stream",
     "text": [
      "Failed because L_curvature = 2163.143185178186 and R_curvature = 8126.3442834494135\n"
     ]
    },
    {
     "name": "stderr",
     "output_type": "stream",
     "text": [
      " 25%|██▍       | 311/1261 [01:12<04:25,  3.58it/s]"
     ]
    },
    {
     "name": "stdout",
     "output_type": "stream",
     "text": [
      "Failed because L_curvature = 5223.08999217125 and R_curvature = 1545.9927627536513\n"
     ]
    },
    {
     "name": "stderr",
     "output_type": "stream",
     "text": [
      "\r",
      " 25%|██▍       | 312/1261 [01:12<04:35,  3.44it/s]"
     ]
    },
    {
     "name": "stdout",
     "output_type": "stream",
     "text": [
      "Failed because L_curvature = 7875.709377039749 and R_curvature = 1843.8596400902713\n"
     ]
    },
    {
     "name": "stderr",
     "output_type": "stream",
     "text": [
      " 25%|██▌       | 319/1261 [01:14<04:19,  3.64it/s]"
     ]
    },
    {
     "name": "stdout",
     "output_type": "stream",
     "text": [
      "Failed because L_curvature = 6716.275651187197 and R_curvature = 639.1770376051522\n"
     ]
    },
    {
     "name": "stderr",
     "output_type": "stream",
     "text": [
      " 25%|██▌       | 321/1261 [01:14<04:01,  3.89it/s]"
     ]
    },
    {
     "name": "stdout",
     "output_type": "stream",
     "text": [
      "Failed because L_curvature = 5275.855419940417 and R_curvature = 844.7350216288271\n"
     ]
    },
    {
     "name": "stderr",
     "output_type": "stream",
     "text": [
      "\r",
      " 26%|██▌       | 322/1261 [01:15<04:11,  3.73it/s]"
     ]
    },
    {
     "name": "stdout",
     "output_type": "stream",
     "text": [
      "Failed because L_curvature = 3624.276367082025 and R_curvature = 844.2226198981657\n"
     ]
    },
    {
     "name": "stderr",
     "output_type": "stream",
     "text": [
      " 26%|██▌       | 324/1261 [01:15<03:57,  3.95it/s]"
     ]
    },
    {
     "name": "stdout",
     "output_type": "stream",
     "text": [
      "Failed because L_curvature = 4262.370884771576 and R_curvature = 1023.4375223989399\n"
     ]
    },
    {
     "name": "stderr",
     "output_type": "stream",
     "text": [
      " 26%|██▋       | 334/1261 [01:18<03:29,  4.42it/s]"
     ]
    },
    {
     "name": "stdout",
     "output_type": "stream",
     "text": [
      "Failed because L_curvature = 8153.26214797009 and R_curvature = 1880.7502747796757\n"
     ]
    },
    {
     "name": "stderr",
     "output_type": "stream",
     "text": [
      " 27%|██▋       | 336/1261 [01:18<03:32,  4.35it/s]"
     ]
    },
    {
     "name": "stdout",
     "output_type": "stream",
     "text": [
      "Failed because L_curvature = 7013.107928821328 and R_curvature = 1793.7096799133867\n"
     ]
    },
    {
     "name": "stderr",
     "output_type": "stream",
     "text": [
      " 27%|██▋       | 341/1261 [01:19<03:23,  4.53it/s]"
     ]
    },
    {
     "name": "stdout",
     "output_type": "stream",
     "text": [
      "Failed because L_curvature = 9892.986545236501 and R_curvature = 2135.0779203405823\n"
     ]
    },
    {
     "name": "stderr",
     "output_type": "stream",
     "text": [
      " 27%|██▋       | 346/1261 [01:20<04:09,  3.67it/s]"
     ]
    },
    {
     "name": "stdout",
     "output_type": "stream",
     "text": [
      "Failed because L_curvature = 6517.367041011049 and R_curvature = 1753.5671723415835\n"
     ]
    },
    {
     "name": "stderr",
     "output_type": "stream",
     "text": [
      " 28%|██▊       | 348/1261 [01:21<03:55,  3.87it/s]"
     ]
    },
    {
     "name": "stdout",
     "output_type": "stream",
     "text": [
      "Failed because L_curvature = 8130.425917894592 and R_curvature = 1488.152219393596\n"
     ]
    },
    {
     "name": "stderr",
     "output_type": "stream",
     "text": [
      " 28%|██▊       | 350/1261 [01:21<03:47,  4.00it/s]"
     ]
    },
    {
     "name": "stdout",
     "output_type": "stream",
     "text": [
      "Failed because L_curvature = 8096.043029533019 and R_curvature = 1637.0257452344063\n"
     ]
    },
    {
     "name": "stderr",
     "output_type": "stream",
     "text": [
      "\r",
      " 28%|██▊       | 351/1261 [01:22<03:40,  4.13it/s]"
     ]
    },
    {
     "name": "stdout",
     "output_type": "stream",
     "text": [
      "Failed because L_curvature = 7327.889130421433 and R_curvature = 1633.821513233457\n"
     ]
    },
    {
     "name": "stderr",
     "output_type": "stream",
     "text": [
      " 28%|██▊       | 354/1261 [01:22<03:28,  4.35it/s]"
     ]
    },
    {
     "name": "stdout",
     "output_type": "stream",
     "text": [
      "Failed because L_curvature = 8271.404604043762 and R_curvature = 2747.1720253566864\n"
     ]
    },
    {
     "name": "stderr",
     "output_type": "stream",
     "text": [
      " 29%|██▉       | 363/1261 [01:24<03:17,  4.56it/s]"
     ]
    },
    {
     "name": "stdout",
     "output_type": "stream",
     "text": [
      "Failed because L_curvature = 944.0875910630589 and R_curvature = 2968.8207912292933\n"
     ]
    },
    {
     "name": "stderr",
     "output_type": "stream",
     "text": [
      "\r",
      " 29%|██▉       | 364/1261 [01:25<03:25,  4.36it/s]"
     ]
    },
    {
     "name": "stdout",
     "output_type": "stream",
     "text": [
      "Failed because L_curvature = 889.9260955899182 and R_curvature = 3125.0288863475544\n"
     ]
    },
    {
     "name": "stderr",
     "output_type": "stream",
     "text": [
      " 29%|██▉       | 367/1261 [01:25<03:24,  4.38it/s]"
     ]
    },
    {
     "name": "stdout",
     "output_type": "stream",
     "text": [
      "Failed because L_curvature = 925.7919904721754 and R_curvature = 5397.201221702343\n"
     ]
    },
    {
     "name": "stderr",
     "output_type": "stream",
     "text": [
      "\r",
      " 29%|██▉       | 368/1261 [01:26<03:24,  4.37it/s]"
     ]
    },
    {
     "name": "stdout",
     "output_type": "stream",
     "text": [
      "Failed because L_curvature = 932.317391346008 and R_curvature = 4161.670611968165\n"
     ]
    },
    {
     "name": "stderr",
     "output_type": "stream",
     "text": [
      " 29%|██▉       | 371/1261 [01:26<03:21,  4.42it/s]"
     ]
    },
    {
     "name": "stdout",
     "output_type": "stream",
     "text": [
      "Failed because L_curvature = 1304.6233469805284 and R_curvature = 4561.627093404177\n"
     ]
    },
    {
     "name": "stderr",
     "output_type": "stream",
     "text": [
      " 32%|███▏      | 398/1261 [01:32<03:24,  4.23it/s]"
     ]
    },
    {
     "name": "stdout",
     "output_type": "stream",
     "text": [
      "Failed because L_curvature = 7777.203230831325 and R_curvature = 2466.1262091717117\n"
     ]
    },
    {
     "name": "stderr",
     "output_type": "stream",
     "text": [
      "\r",
      " 32%|███▏      | 399/1261 [01:33<03:37,  3.97it/s]"
     ]
    },
    {
     "name": "stdout",
     "output_type": "stream",
     "text": [
      "Failed because L_curvature = 9358.415396934288 and R_curvature = 3058.3842035079597\n"
     ]
    },
    {
     "name": "stderr",
     "output_type": "stream",
     "text": [
      " 33%|███▎      | 422/1261 [01:38<03:46,  3.71it/s]"
     ]
    },
    {
     "name": "stdout",
     "output_type": "stream",
     "text": [
      "Failed because L_curvature = 2775.0705821264187 and R_curvature = 9402.646106254691\n"
     ]
    },
    {
     "name": "stderr",
     "output_type": "stream",
     "text": [
      " 34%|███▍      | 427/1261 [01:40<03:47,  3.67it/s]"
     ]
    },
    {
     "name": "stdout",
     "output_type": "stream",
     "text": [
      "Failed because L_curvature = 8814.487764348914 and R_curvature = 2764.3833656200677\n"
     ]
    },
    {
     "name": "stderr",
     "output_type": "stream",
     "text": [
      " 35%|███▍      | 439/1261 [01:43<03:28,  3.95it/s]"
     ]
    },
    {
     "name": "stdout",
     "output_type": "stream",
     "text": [
      "Failed because L_curvature = 1688.8732615829733 and R_curvature = 6664.044246375018\n"
     ]
    },
    {
     "name": "stderr",
     "output_type": "stream",
     "text": [
      " 37%|███▋      | 465/1261 [01:49<03:06,  4.27it/s]"
     ]
    },
    {
     "name": "stdout",
     "output_type": "stream",
     "text": [
      "Failed because L_curvature = 7470.751569687 and R_curvature = 1106.6021984301076\n"
     ]
    },
    {
     "name": "stderr",
     "output_type": "stream",
     "text": [
      " 37%|███▋      | 469/1261 [01:50<03:06,  4.24it/s]"
     ]
    },
    {
     "name": "stdout",
     "output_type": "stream",
     "text": [
      "Failed because L_curvature = 1259.3131661816408 and R_curvature = 4055.6804199511107\n"
     ]
    },
    {
     "name": "stderr",
     "output_type": "stream",
     "text": [
      " 37%|███▋      | 472/1261 [01:50<02:58,  4.42it/s]"
     ]
    },
    {
     "name": "stdout",
     "output_type": "stream",
     "text": [
      "Failed because L_curvature = 9275.104809357343 and R_curvature = 1805.370505303614\n"
     ]
    },
    {
     "name": "stderr",
     "output_type": "stream",
     "text": [
      " 38%|███▊      | 485/1261 [01:54<03:30,  3.69it/s]"
     ]
    },
    {
     "name": "stdout",
     "output_type": "stream",
     "text": [
      "Failed because L_curvature = 5331.940460014927 and R_curvature = 1393.310672409279\n"
     ]
    },
    {
     "name": "stderr",
     "output_type": "stream",
     "text": [
      "\r",
      " 39%|███▊      | 486/1261 [01:54<03:36,  3.58it/s]"
     ]
    },
    {
     "name": "stdout",
     "output_type": "stream",
     "text": [
      "Failed because L_curvature = 5353.208759544126 and R_curvature = 1075.8209772470693\n"
     ]
    },
    {
     "name": "stderr",
     "output_type": "stream",
     "text": [
      "\r",
      " 39%|███▊      | 487/1261 [01:54<03:37,  3.56it/s]"
     ]
    },
    {
     "name": "stdout",
     "output_type": "stream",
     "text": [
      "Failed because L_curvature = 6686.905752478645 and R_curvature = 1808.4902624043834\n"
     ]
    },
    {
     "name": "stderr",
     "output_type": "stream",
     "text": [
      " 41%|████      | 512/1261 [02:00<02:54,  4.29it/s]"
     ]
    },
    {
     "name": "stdout",
     "output_type": "stream",
     "text": [
      "Failed because L_curvature = 9366.571884432984 and R_curvature = 1517.5422413059557\n"
     ]
    },
    {
     "name": "stderr",
     "output_type": "stream",
     "text": [
      " 41%|████▏     | 523/1261 [02:03<02:49,  4.36it/s]"
     ]
    },
    {
     "name": "stdout",
     "output_type": "stream",
     "text": [
      "Failed because L_curvature = 2048.0736616282734 and R_curvature = 471.66766071725436\n"
     ]
    },
    {
     "name": "stderr",
     "output_type": "stream",
     "text": [
      " 42%|████▏     | 525/1261 [02:03<02:46,  4.41it/s]"
     ]
    },
    {
     "name": "stdout",
     "output_type": "stream",
     "text": [
      "Failed because L_curvature = 1828.786069098446 and R_curvature = 514.6206386957688\n"
     ]
    },
    {
     "name": "stderr",
     "output_type": "stream",
     "text": [
      " 42%|████▏     | 528/1261 [02:04<02:48,  4.35it/s]"
     ]
    },
    {
     "name": "stdout",
     "output_type": "stream",
     "text": [
      "Failed because L_curvature = 1427.3541829694636 and R_curvature = 438.34327211919026\n"
     ]
    },
    {
     "name": "stderr",
     "output_type": "stream",
     "text": [
      "\r",
      " 42%|████▏     | 529/1261 [02:04<02:46,  4.41it/s]"
     ]
    },
    {
     "name": "stdout",
     "output_type": "stream",
     "text": [
      "Failed because L_curvature = 987.0612158872544 and R_curvature = 6969.885561691427\n"
     ]
    },
    {
     "name": "stderr",
     "output_type": "stream",
     "text": [
      "\r",
      " 42%|████▏     | 530/1261 [02:04<02:51,  4.27it/s]"
     ]
    },
    {
     "name": "stdout",
     "output_type": "stream",
     "text": [
      "Failed because L_curvature = 555.1919846308733 and R_curvature = 4072.6466663187484\n"
     ]
    },
    {
     "name": "stderr",
     "output_type": "stream",
     "text": [
      "\r",
      " 42%|████▏     | 531/1261 [02:05<02:48,  4.34it/s]"
     ]
    },
    {
     "name": "stdout",
     "output_type": "stream",
     "text": [
      "Failed because L_curvature = 522.310159748011 and R_curvature = 8853.185859610596\n"
     ]
    },
    {
     "name": "stderr",
     "output_type": "stream",
     "text": [
      " 42%|████▏     | 534/1261 [02:05<02:44,  4.42it/s]"
     ]
    },
    {
     "name": "stdout",
     "output_type": "stream",
     "text": [
      "Failed because L_curvature = 340.34744372704404 and R_curvature = 2747.4510470344044\n"
     ]
    },
    {
     "name": "stderr",
     "output_type": "stream",
     "text": [
      " 43%|████▎     | 536/1261 [02:06<02:47,  4.33it/s]"
     ]
    },
    {
     "name": "stdout",
     "output_type": "stream",
     "text": [
      "Failed because L_curvature = 291.1486523475554 and R_curvature = 1913.3404238380185\n"
     ]
    },
    {
     "name": "stderr",
     "output_type": "stream",
     "text": [
      " 43%|████▎     | 540/1261 [02:07<02:43,  4.42it/s]"
     ]
    },
    {
     "name": "stdout",
     "output_type": "stream",
     "text": [
      "Failed because L_curvature = 278.6475017559455 and R_curvature = 2843.404628619489\n"
     ]
    },
    {
     "name": "stderr",
     "output_type": "stream",
     "text": [
      "\r",
      " 43%|████▎     | 541/1261 [02:07<02:43,  4.41it/s]"
     ]
    },
    {
     "name": "stdout",
     "output_type": "stream",
     "text": [
      "Failed because L_curvature = 504.71532627188117 and R_curvature = 3378.3626310287727\n"
     ]
    },
    {
     "name": "stderr",
     "output_type": "stream",
     "text": [
      "\r",
      " 43%|████▎     | 542/1261 [02:07<02:44,  4.36it/s]"
     ]
    },
    {
     "name": "stdout",
     "output_type": "stream",
     "text": [
      "Failed because L_curvature = 690.5242005539278 and R_curvature = 5769.987824531402\n"
     ]
    },
    {
     "name": "stderr",
     "output_type": "stream",
     "text": [
      " 43%|████▎     | 544/1261 [02:08<02:41,  4.45it/s]"
     ]
    },
    {
     "name": "stdout",
     "output_type": "stream",
     "text": [
      "Failed because L_curvature = 358.55473557526665 and R_curvature = 1590.1300378051142\n"
     ]
    },
    {
     "name": "stderr",
     "output_type": "stream",
     "text": [
      " 44%|████▎     | 550/1261 [02:09<02:54,  4.07it/s]"
     ]
    },
    {
     "name": "stdout",
     "output_type": "stream",
     "text": [
      "Failed because L_curvature = 368.93203008453884 and R_curvature = 1224.982607887171\n"
     ]
    },
    {
     "name": "stderr",
     "output_type": "stream",
     "text": [
      " 44%|████▍     | 555/1261 [02:10<03:19,  3.53it/s]"
     ]
    },
    {
     "name": "stdout",
     "output_type": "stream",
     "text": [
      "Failed because L_curvature = 417.2121036317278 and R_curvature = 2507.538764127432\n"
     ]
    },
    {
     "name": "stderr",
     "output_type": "stream",
     "text": [
      "\r",
      " 44%|████▍     | 556/1261 [02:11<03:16,  3.59it/s]"
     ]
    },
    {
     "name": "stdout",
     "output_type": "stream",
     "text": [
      "Failed because L_curvature = 2960.2239544524473 and R_curvature = 686.3769909146968\n"
     ]
    },
    {
     "name": "stderr",
     "output_type": "stream",
     "text": [
      " 44%|████▍     | 559/1261 [02:12<04:07,  2.83it/s]"
     ]
    },
    {
     "name": "stdout",
     "output_type": "stream",
     "text": [
      "Failed because L_curvature = 695.5074091046188 and R_curvature = 2195.001595297076\n"
     ]
    },
    {
     "name": "stderr",
     "output_type": "stream",
     "text": [
      " 45%|████▍     | 566/1261 [02:14<03:42,  3.13it/s]"
     ]
    },
    {
     "name": "stdout",
     "output_type": "stream",
     "text": [
      "Failed because L_curvature = 3011.6308054528035 and R_curvature = 886.2206388641545\n"
     ]
    },
    {
     "name": "stderr",
     "output_type": "stream",
     "text": [
      " 45%|████▌     | 569/1261 [02:15<03:22,  3.42it/s]"
     ]
    },
    {
     "name": "stdout",
     "output_type": "stream",
     "text": [
      "Failed because L_curvature = 5198.214654995286 and R_curvature = 845.0625423657382\n"
     ]
    },
    {
     "name": "stderr",
     "output_type": "stream",
     "text": [
      " 46%|████▌     | 582/1261 [02:19<02:59,  3.79it/s]"
     ]
    },
    {
     "name": "stdout",
     "output_type": "stream",
     "text": [
      "Failed because L_curvature = 6387.530809856772 and R_curvature = 698.8469023610313\n"
     ]
    },
    {
     "name": "stderr",
     "output_type": "stream",
     "text": [
      " 47%|████▋     | 590/1261 [02:21<03:19,  3.37it/s]"
     ]
    },
    {
     "name": "stdout",
     "output_type": "stream",
     "text": [
      "Failed because L_curvature = 2617.668588667903 and R_curvature = 784.0422373391483\n"
     ]
    },
    {
     "name": "stderr",
     "output_type": "stream",
     "text": [
      "\r",
      " 47%|████▋     | 591/1261 [02:21<03:21,  3.33it/s]"
     ]
    },
    {
     "name": "stdout",
     "output_type": "stream",
     "text": [
      "Failed because L_curvature = 3627.852676059562 and R_curvature = 954.9311280009416\n"
     ]
    },
    {
     "name": "stderr",
     "output_type": "stream",
     "text": [
      " 47%|████▋     | 593/1261 [02:22<03:30,  3.18it/s]"
     ]
    },
    {
     "name": "stdout",
     "output_type": "stream",
     "text": [
      "Failed because L_curvature = 463.6184659798184 and R_curvature = 1585.091254332772\n"
     ]
    },
    {
     "name": "stderr",
     "output_type": "stream",
     "text": [
      " 47%|████▋     | 596/1261 [02:23<03:28,  3.19it/s]"
     ]
    },
    {
     "name": "stdout",
     "output_type": "stream",
     "text": [
      "Failed because L_curvature = 458.3668557972081 and R_curvature = 1825.6724849657028\n"
     ]
    },
    {
     "name": "stderr",
     "output_type": "stream",
     "text": [
      " 71%|███████   | 893/1261 [03:36<01:25,  4.33it/s]"
     ]
    },
    {
     "name": "stdout",
     "output_type": "stream",
     "text": [
      "Failed because L_curvature = 3235.193948403114 and R_curvature = 987.5798062009374\n"
     ]
    },
    {
     "name": "stderr",
     "output_type": "stream",
     "text": [
      " 77%|███████▋  | 973/1261 [03:55<01:08,  4.18it/s]"
     ]
    },
    {
     "name": "stdout",
     "output_type": "stream",
     "text": [
      "Failed because L_curvature = 6363.995737381785 and R_curvature = 1606.241171872591\n"
     ]
    },
    {
     "name": "stderr",
     "output_type": "stream",
     "text": [
      " 78%|███████▊  | 978/1261 [03:56<01:09,  4.05it/s]"
     ]
    },
    {
     "name": "stdout",
     "output_type": "stream",
     "text": [
      "Failed because L_curvature = 3193.1951263142123 and R_curvature = 510.11013709329114\n"
     ]
    },
    {
     "name": "stderr",
     "output_type": "stream",
     "text": [
      "\r",
      " 78%|███████▊  | 979/1261 [03:57<01:08,  4.13it/s]"
     ]
    },
    {
     "name": "stdout",
     "output_type": "stream",
     "text": [
      "Failed because L_curvature = 6936.286444774694 and R_curvature = 477.44499740279963\n"
     ]
    },
    {
     "name": "stderr",
     "output_type": "stream",
     "text": [
      " 78%|███████▊  | 986/1261 [03:58<01:02,  4.40it/s]"
     ]
    },
    {
     "name": "stdout",
     "output_type": "stream",
     "text": [
      "Failed because L_curvature = 1694.3056523618193 and R_curvature = 451.6171699369471\n"
     ]
    },
    {
     "name": "stderr",
     "output_type": "stream",
     "text": [
      " 79%|███████▊  | 991/1261 [03:59<00:59,  4.52it/s]"
     ]
    },
    {
     "name": "stdout",
     "output_type": "stream",
     "text": [
      "Failed because L_curvature = 2048.901423407397 and R_curvature = 385.06794229472877\n"
     ]
    },
    {
     "name": "stderr",
     "output_type": "stream",
     "text": [
      "\r",
      " 79%|███████▊  | 992/1261 [03:59<01:00,  4.46it/s]"
     ]
    },
    {
     "name": "stdout",
     "output_type": "stream",
     "text": [
      "Failed because L_curvature = 2363.7419051411744 and R_curvature = 610.2678106049602\n"
     ]
    },
    {
     "name": "stderr",
     "output_type": "stream",
     "text": [
      "\r",
      " 79%|███████▊  | 993/1261 [04:00<00:59,  4.47it/s]"
     ]
    },
    {
     "name": "stdout",
     "output_type": "stream",
     "text": [
      "Failed because L_curvature = 3426.7170811710475 and R_curvature = 457.57770668820416\n"
     ]
    },
    {
     "name": "stderr",
     "output_type": "stream",
     "text": [
      "\r",
      " 79%|███████▉  | 994/1261 [04:00<01:00,  4.45it/s]"
     ]
    },
    {
     "name": "stdout",
     "output_type": "stream",
     "text": [
      "Failed because L_curvature = 1979.0558401596015 and R_curvature = 403.2786488930834\n"
     ]
    },
    {
     "name": "stderr",
     "output_type": "stream",
     "text": [
      " 79%|███████▉  | 1001/1261 [04:01<00:56,  4.57it/s]"
     ]
    },
    {
     "name": "stdout",
     "output_type": "stream",
     "text": [
      "Failed because L_curvature = 598.4396288906435 and R_curvature = 2025.398519876335\n"
     ]
    },
    {
     "name": "stderr",
     "output_type": "stream",
     "text": [
      " 81%|████████  | 1024/1261 [04:07<00:57,  4.10it/s]"
     ]
    },
    {
     "name": "stdout",
     "output_type": "stream",
     "text": [
      "Failed because L_curvature = 276.2337307261944 and R_curvature = 888.4812932312574\n"
     ]
    },
    {
     "name": "stderr",
     "output_type": "stream",
     "text": [
      " 82%|████████▏ | 1030/1261 [04:08<00:56,  4.11it/s]"
     ]
    },
    {
     "name": "stdout",
     "output_type": "stream",
     "text": [
      "Failed because L_curvature = 1271.8915424266484 and R_curvature = 347.5406306729513\n"
     ]
    },
    {
     "name": "stderr",
     "output_type": "stream",
     "text": [
      " 82%|████████▏ | 1032/1261 [04:09<00:54,  4.18it/s]"
     ]
    },
    {
     "name": "stdout",
     "output_type": "stream",
     "text": [
      "Failed because L_curvature = 1523.8613594363014 and R_curvature = 343.88152812179084\n"
     ]
    },
    {
     "name": "stderr",
     "output_type": "stream",
     "text": [
      " 83%|████████▎ | 1050/1261 [04:13<00:59,  3.56it/s]"
     ]
    },
    {
     "name": "stdout",
     "output_type": "stream",
     "text": [
      "Failed because L_curvature = 586.3367741311971 and R_curvature = 194.48463100991555\n"
     ]
    },
    {
     "name": "stderr",
     "output_type": "stream",
     "text": [
      " 83%|████████▎ | 1052/1261 [04:14<00:56,  3.70it/s]"
     ]
    },
    {
     "name": "stdout",
     "output_type": "stream",
     "text": [
      "Failed because L_curvature = 498.38375041152636 and R_curvature = 6446.211085231476\n"
     ]
    },
    {
     "name": "stderr",
     "output_type": "stream",
     "text": [
      " 88%|████████▊ | 1114/1261 [04:29<00:34,  4.24it/s]"
     ]
    },
    {
     "name": "stdout",
     "output_type": "stream",
     "text": [
      "Failed because L_curvature = 1115.883195267604 and R_curvature = 369.6835487066658\n"
     ]
    },
    {
     "name": "stderr",
     "output_type": "stream",
     "text": [
      " 99%|█████████▉| 1246/1261 [04:59<00:03,  4.24it/s]"
     ]
    },
    {
     "name": "stdout",
     "output_type": "stream",
     "text": [
      "Failed because L_curvature = 2295.5146570354864 and R_curvature = 650.8072789107421\n"
     ]
    },
    {
     "name": "stderr",
     "output_type": "stream",
     "text": [
      " 99%|█████████▉| 1252/1261 [05:00<00:02,  4.39it/s]"
     ]
    },
    {
     "name": "stdout",
     "output_type": "stream",
     "text": [
      "Failed because L_curvature = 1428.4232629335306 and R_curvature = 7169.733290572055\n"
     ]
    },
    {
     "name": "stderr",
     "output_type": "stream",
     "text": [
      "\r",
      " 99%|█████████▉| 1253/1261 [05:00<00:01,  4.39it/s]"
     ]
    },
    {
     "name": "stdout",
     "output_type": "stream",
     "text": [
      "Failed because L_curvature = 7420.496017180957 and R_curvature = 209.84428262782316\n"
     ]
    },
    {
     "name": "stderr",
     "output_type": "stream",
     "text": [
      "100%|█████████▉| 1256/1261 [05:01<00:01,  4.39it/s]"
     ]
    },
    {
     "name": "stdout",
     "output_type": "stream",
     "text": [
      "Failed because L_curvature = 7708.111276771923 and R_curvature = 2322.4583483081656\n"
     ]
    },
    {
     "name": "stderr",
     "output_type": "stream",
     "text": [
      "100%|█████████▉| 1260/1261 [05:02<00:00,  4.40it/s]\n"
     ]
    },
    {
     "name": "stdout",
     "output_type": "stream",
     "text": [
      "[MoviePy] Done.\n",
      "[MoviePy] >>>> Video ready: output_crop.mp4 \n",
      "\n"
     ]
    }
   ],
   "source": [
    "global attempted\n",
    "attempted = False\n",
    "clip = VideoFileClip('project_video.mp4') # can be gif or movie\n",
    "new_clip = clip.fl_image(pipeline)\n",
    "new_clip.write_videofile(\"output_crop.mp4\", audio=False)"
   ]
  },
  {
   "cell_type": "code",
   "execution_count": null,
   "metadata": {
    "collapsed": true
   },
   "outputs": [],
   "source": []
  }
 ],
 "metadata": {
  "kernelspec": {
   "display_name": "Python [default]",
   "language": "python",
   "name": "python3"
  },
  "language_info": {
   "codemirror_mode": {
    "name": "ipython",
    "version": 3
   },
   "file_extension": ".py",
   "mimetype": "text/x-python",
   "name": "python",
   "nbconvert_exporter": "python",
   "pygments_lexer": "ipython3",
   "version": "3.5.2"
  }
 },
 "nbformat": 4,
 "nbformat_minor": 1
}
